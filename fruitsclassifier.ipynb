{
  "nbformat": 4,
  "nbformat_minor": 0,
  "metadata": {
    "colab": {
      "name": "fruitsclassifier.ipynb",
      "provenance": [],
      "collapsed_sections": []
    },
    "kernelspec": {
      "name": "python2",
      "display_name": "Python 2"
    },
    "accelerator": "GPU"
  },
  "cells": [
    {
      "cell_type": "code",
      "metadata": {
        "id": "miA4VEA_n4Mc",
        "colab_type": "code",
        "colab": {}
      },
      "source": [
        "!mkdir data"
      ],
      "execution_count": null,
      "outputs": []
    },
    {
      "cell_type": "code",
      "metadata": {
        "id": "1WvQjZsmoRUG",
        "colab_type": "code",
        "colab": {
          "base_uri": "https://localhost:8080/",
          "height": 34
        },
        "outputId": "cfa2cf10-a0c8-420e-a1c3-e553156785b6"
      },
      "source": [
        "cd data"
      ],
      "execution_count": null,
      "outputs": [
        {
          "output_type": "stream",
          "text": [
            "/content/data\n"
          ],
          "name": "stdout"
        }
      ]
    },
    {
      "cell_type": "code",
      "metadata": {
        "id": "D7snzOOFoS3S",
        "colab_type": "code",
        "colab": {
          "base_uri": "https://localhost:8080/",
          "height": 756
        },
        "outputId": "e18f1940-efea-4023-f9e4-ced59f1d3a23"
      },
      "source": [
        "!wget https://storage.googleapis.com/quickdraw_dataset/full/numpy_bitmap/apple.npy\n",
        "!wget https://storage.googleapis.com/quickdraw_dataset/full/numpy_bitmap/pineapple.npy\n",
        "!wget https://storage.googleapis.com/quickdraw_dataset/full/numpy_bitmap/grapes.npy\n",
        "!wget https://storage.googleapis.com/quickdraw_dataset/full/numpy_bitmap/banana.npy"
      ],
      "execution_count": null,
      "outputs": [
        {
          "output_type": "stream",
          "text": [
            "--2020-07-29 18:17:18--  https://storage.googleapis.com/quickdraw_dataset/full/numpy_bitmap/apple.npy\n",
            "Resolving storage.googleapis.com (storage.googleapis.com)... 74.125.142.128, 74.125.195.128, 108.177.98.128, ...\n",
            "Connecting to storage.googleapis.com (storage.googleapis.com)|74.125.142.128|:443... connected.\n",
            "HTTP request sent, awaiting response... 200 OK\n",
            "Length: 113462128 (108M) [application/octet-stream]\n",
            "Saving to: ‘apple.npy’\n",
            "\n",
            "\rapple.npy             0%[                    ]       0  --.-KB/s               \rapple.npy             7%[>                   ]   8.01M  22.7MB/s               \rapple.npy            36%[======>             ]  40.01M  54.8MB/s               \rapple.npy            66%[============>       ]  72.01M  72.7MB/s               \rapple.npy            88%[================>   ]  96.01M  77.3MB/s               \rapple.npy           100%[===================>] 108.21M  84.9MB/s    in 1.3s    \n",
            "\n",
            "2020-07-29 18:17:20 (84.9 MB/s) - ‘apple.npy’ saved [113462128/113462128]\n",
            "\n",
            "--2020-07-29 18:17:24--  https://storage.googleapis.com/quickdraw_dataset/full/numpy_bitmap/pineapple.npy\n",
            "Resolving storage.googleapis.com (storage.googleapis.com)... 74.125.142.128, 74.125.195.128, 172.253.117.128, ...\n",
            "Connecting to storage.googleapis.com (storage.googleapis.com)|74.125.142.128|:443... connected.\n",
            "HTTP request sent, awaiting response... 200 OK\n",
            "Length: 98055744 (94M) [application/octet-stream]\n",
            "Saving to: ‘pineapple.npy’\n",
            "\n",
            "pineapple.npy       100%[===================>]  93.51M  71.3MB/s    in 1.3s    \n",
            "\n",
            "2020-07-29 18:17:26 (71.3 MB/s) - ‘pineapple.npy’ saved [98055744/98055744]\n",
            "\n",
            "--2020-07-29 18:17:30--  https://storage.googleapis.com/quickdraw_dataset/full/numpy_bitmap/grapes.npy\n",
            "Resolving storage.googleapis.com (storage.googleapis.com)... 74.125.20.128, 74.125.142.128, 74.125.195.128, ...\n",
            "Connecting to storage.googleapis.com (storage.googleapis.com)|74.125.20.128|:443... connected.\n",
            "HTTP request sent, awaiting response... 200 OK\n",
            "Length: 121759200 (116M) [application/octet-stream]\n",
            "Saving to: ‘grapes.npy’\n",
            "\n",
            "grapes.npy          100%[===================>] 116.12M  81.3MB/s    in 1.4s    \n",
            "\n",
            "2020-07-29 18:17:32 (81.3 MB/s) - ‘grapes.npy’ saved [121759200/121759200]\n",
            "\n",
            "--2020-07-29 18:17:35--  https://storage.googleapis.com/quickdraw_dataset/full/numpy_bitmap/banana.npy\n",
            "Resolving storage.googleapis.com (storage.googleapis.com)... 74.125.20.128, 74.125.197.128, 74.125.142.128, ...\n",
            "Connecting to storage.googleapis.com (storage.googleapis.com)|74.125.20.128|:443... connected.\n",
            "HTTP request sent, awaiting response... 200 OK\n",
            "Length: 241421904 (230M) [application/octet-stream]\n",
            "Saving to: ‘banana.npy’\n",
            "\n",
            "banana.npy          100%[===================>] 230.24M   106MB/s    in 2.2s    \n",
            "\n",
            "2020-07-29 18:17:38 (106 MB/s) - ‘banana.npy’ saved [241421904/241421904]\n",
            "\n"
          ],
          "name": "stdout"
        }
      ]
    },
    {
      "cell_type": "code",
      "metadata": {
        "id": "BmwcmjDBoVEI",
        "colab_type": "code",
        "colab": {
          "base_uri": "https://localhost:8080/",
          "height": 34
        },
        "outputId": "4c7c3a48-6a49-48b4-8e4a-9c28686a4fd3"
      },
      "source": [
        "!ls"
      ],
      "execution_count": null,
      "outputs": [
        {
          "output_type": "stream",
          "text": [
            "apple.npy  banana.npy  grapes.npy  pineapple.npy\n"
          ],
          "name": "stdout"
        }
      ]
    },
    {
      "cell_type": "markdown",
      "metadata": {
        "id": "K0-fY0G2gm1F",
        "colab_type": "text"
      },
      "source": [
        ""
      ]
    },
    {
      "cell_type": "code",
      "metadata": {
        "id": "zcfHEMXDoaAS",
        "colab_type": "code",
        "colab": {
          "base_uri": "https://localhost:8080/",
          "height": 34
        },
        "outputId": "0d3f2a7c-2faa-45bd-d10d-92a127549db4"
      },
      "source": [
        "cd .."
      ],
      "execution_count": null,
      "outputs": [
        {
          "output_type": "stream",
          "text": [
            "/content\n"
          ],
          "name": "stdout"
        }
      ]
    },
    {
      "cell_type": "code",
      "metadata": {
        "id": "Fpe-AIhZniXf",
        "colab_type": "code",
        "colab": {
          "base_uri": "https://localhost:8080/",
          "height": 34
        },
        "outputId": "1f0e9e32-f421-4402-f8ec-8910cf227436"
      },
      "source": [
        "from sklearn.model_selection import train_test_split as tts\n",
        "from keras.models import Sequential\n",
        "from keras.layers import Dense, Dropout, Conv2D, MaxPooling2D, Flatten\n",
        "from keras.utils import np_utils\n",
        "from random import randint\n",
        "import numpy as np\n",
        "import os\n",
        "from PIL import Image"
      ],
      "execution_count": null,
      "outputs": [
        {
          "output_type": "stream",
          "text": [
            "Using TensorFlow backend.\n"
          ],
          "name": "stderr"
        }
      ]
    },
    {
      "cell_type": "code",
      "metadata": {
        "id": "dMVvXUhdnxZG",
        "colab_type": "code",
        "colab": {}
      },
      "source": [
        "# define some constants\n",
        "N_FRUITS = 4\n",
        "FRUITS = {0: \"Apple\", 1: \"Banana\", 2: \"Grape\", 3: \"Pineapple\"}\n",
        "\n",
        "# number of samples to take in each class\n",
        "N = 5000\n",
        "\n",
        "# some other constants\n",
        "N_EPOCHS = 10\n",
        "\n",
        "# data files in the same order as defined in FRUITS\n",
        "files = [\"apple.npy\", \"banana.npy\", \"grapes.npy\", \"pineapple.npy\"]"
      ],
      "execution_count": null,
      "outputs": []
    },
    {
      "cell_type": "code",
      "metadata": {
        "id": "2040kUlXoq8Z",
        "colab_type": "code",
        "colab": {}
      },
      "source": [
        "def load(dir, reshaped, files):\n",
        "    \"Load .npy or .npz files from disk and return them as numpy arrays. \\\n",
        "    Takes in a list of filenames and returns a list of numpy arrays.\"\n",
        "\n",
        "    data = []\n",
        "    for file in files:\n",
        "        f = np.load(dir + file)\n",
        "        if reshaped:\n",
        "            new_f = []\n",
        "            for i in range(len(f)):\n",
        "                x = np.reshape(f[i], (28, 28))\n",
        "                x = np.expand_dims(x, axis=0)\n",
        "                x = np.reshape(f[i], (28, 28, 1))\n",
        "                new_f.append(x)\n",
        "            f = new_f\n",
        "        data.append(f)\n",
        "    return data\n",
        "\n",
        "\n",
        "def normalize(data):\n",
        "    \"Takes a list or a list of lists and returns its normalized form\"\n",
        "\n",
        "    return np.interp(data, [0, 255], [-1, 1])\n",
        "\n",
        "\n",
        "def denormalize(data):\n",
        "    \"Takes a list or a list of lists and returns its denormalized form\"\n",
        "\n",
        "    return np.interp(data, [-1, 1], [0, 255])\n",
        "\n",
        "\n",
        "def visualize(array):\n",
        "    \"Visulaze a 2D array as an Image\"\n",
        "    array = np.reshape(array, (28,28))\n",
        "    img = Image.fromarray(array)\n",
        "    return img\n",
        "\n",
        "\n",
        "def set_limit(arrays, n):\n",
        "    \"Limit elements from each array up to n elements and return a single list\"\n",
        "    new = []\n",
        "    for array in arrays:\n",
        "        i = 0\n",
        "        for item in array:\n",
        "            if i == n:\n",
        "                break\n",
        "            new.append(item)\n",
        "            i += 1\n",
        "    return new\n",
        "\n",
        "\n",
        "def make_labels(N1, N2):\n",
        "    \"make labels from 0 to N1, each repeated N2 times\"\n",
        "    labels = []\n",
        "    for i in range(N1):\n",
        "        labels += [i] * N2\n",
        "    return labels"
      ],
      "execution_count": null,
      "outputs": []
    },
    {
      "cell_type": "code",
      "metadata": {
        "id": "muRffjU7ejTQ",
        "colab_type": "code",
        "colab": {}
      },
      "source": [
        "fruits = load(\"data/\", False, ['banana.npy'])"
      ],
      "execution_count": null,
      "outputs": []
    },
    {
      "cell_type": "code",
      "metadata": {
        "id": "r-0ihulEfRho",
        "colab_type": "code",
        "colab": {
          "base_uri": "https://localhost:8080/",
          "height": 45
        },
        "outputId": "481572c7-ff7a-4c18-9556-d06562c18702"
      },
      "source": [
        "visualize(fruits[0][90])"
      ],
      "execution_count": null,
      "outputs": [
        {
          "output_type": "execute_result",
          "data": {
            "image/png": "[encoded data removed]",
            "text/plain": [
              "<PIL.Image.Image image mode=L size=28x28 at 0x7FD5574A44D0>"
            ]
          },
          "metadata": {
            "tags": []
          },
          "execution_count": 10
        }
      ]
    },
    {
      "cell_type": "code",
      "metadata": {
        "id": "qarmip4PosqM",
        "colab_type": "code",
        "colab": {}
      },
      "source": [
        "\n",
        "#second argument is True for reshaping the image to a 28x28 form. A conv net expects this format.\n",
        "fruits = load(\"data/\", True, files)\n",
        " \n",
        "#second argument is False because we don't need to reshape the image. An MLP net expects this format.\n",
        "#fruits = load(\"data/\", False, files)\n",
        "\n",
        "\n",
        "# limit no of samples in each class to N\n",
        "fruits = set_limit(fruits, N)\n",
        "\n",
        "# normalize the values\n",
        "fruits = map(normalize, fruits)\n",
        "\n",
        "# define the labels\n",
        "labels = make_labels(N_FRUITS, N)\n",
        "\n",
        "# prepare the data\n",
        "x_train, x_test, y_train, y_test = tts(fruits, labels, test_size=0.05)\n",
        "\n",
        "# one hot encoding\n",
        "Y_train = np_utils.to_categorical(y_train, N_FRUITS)\n",
        "Y_test = np_utils.to_categorical(y_test, N_FRUITS)\n"
      ],
      "execution_count": null,
      "outputs": []
    },
    {
      "cell_type": "code",
      "metadata": {
        "id": "g9vv8w0GpHbJ",
        "colab_type": "code",
        "colab": {}
      },
      "source": [
        "model = Sequential()\n",
        "model.add(Conv2D(32, kernel_size=(3, 3), activation='relu', input_shape=(28,28,1)))\n",
        "model.add(Conv2D(64, (3, 3), activation='relu'))\n",
        "model.add(MaxPooling2D(pool_size=(2, 2)))\n",
        "model.add(Dropout(0.25))\n",
        "model.add(Flatten())\n",
        "model.add(Dense(128, activation='relu'))\n",
        "model.add(Dropout(0.5))\n",
        "model.add(Dense(N_FRUITS, activation='softmax'))"
      ],
      "execution_count": null,
      "outputs": []
    },
    {
      "cell_type": "code",
      "metadata": {
        "id": "5Vw4SQ7l9KuP",
        "colab_type": "code",
        "colab": {}
      },
      "source": [
        "# model = Sequential()\n",
        "# model.add(Dense(units=600, activation='relu', input_dim=784))\n",
        "# model.add(Dropout(0.3))\n",
        "# model.add(Dense(units=400, activation='relu'))\n",
        "# model.add(Dropout(0.3))\n",
        "# model.add(Dense(units=100, activation='relu'))\n",
        "# model.add(Dropout(0.3))\n",
        "# model.add(Dense(units=25, activation='relu'))\n",
        "# model.add(Dropout(0.3))\n",
        "# model.add(Dense(units=N_FRUITS, activation='softmax'))"
      ],
      "execution_count": null,
      "outputs": []
    },
    {
      "cell_type": "code",
      "metadata": {
        "id": "6x-bbPmqpM5d",
        "colab_type": "code",
        "colab": {
          "base_uri": "https://localhost:8080/",
          "height": 420
        },
        "outputId": "55003ac4-0bd4-45d9-e90d-724b4554bcc1"
      },
      "source": [
        "model.compile(loss='categorical_crossentropy',\n",
        "              optimizer='adam',\n",
        "              metrics=['accuracy'])\n",
        "\n",
        "\n",
        "# train\n",
        "model.fit(np.array(x_train), np.array(Y_train), batch_size=32, epochs=N_EPOCHS)\n",
        "\n",
        "print \"Training complete\"\n",
        "\n",
        "print \"Evaluating model\"\n",
        "preds = model.predict(np.array(x_test))\n",
        "\n",
        "score = 0\n",
        "for i in range(len(preds)):\n",
        "    if np.argmax(preds[i]) == y_test[i]:\n",
        "        score += 1\n",
        "\n",
        "print \"Accuracy: \", ((score + 0.0) / len(preds)) * 100\n",
        "\n",
        "\n",
        "model.save(\"fruits\"+ \".h5\")\n",
        "print \"Model saved\"\n"
      ],
      "execution_count": null,
      "outputs": [
        {
          "output_type": "stream",
          "text": [
            "Epoch 1/10\n",
            "19000/19000 [==============================] - 10s 529us/step - loss: 0.3160 - accuracy: 0.8958\n",
            "Epoch 2/10\n",
            "19000/19000 [==============================] - 3s 155us/step - loss: 0.1885 - accuracy: 0.9414\n",
            "Epoch 3/10\n",
            "19000/19000 [==============================] - 3s 156us/step - loss: 0.1504 - accuracy: 0.9541\n",
            "Epoch 4/10\n",
            "19000/19000 [==============================] - 3s 160us/step - loss: 0.1237 - accuracy: 0.9607\n",
            "Epoch 5/10\n",
            "19000/19000 [==============================] - 3s 155us/step - loss: 0.1007 - accuracy: 0.9659\n",
            "Epoch 6/10\n",
            "19000/19000 [==============================] - 3s 154us/step - loss: 0.0874 - accuracy: 0.9704\n",
            "Epoch 7/10\n",
            "19000/19000 [==============================] - 3s 155us/step - loss: 0.0720 - accuracy: 0.9748\n",
            "Epoch 8/10\n",
            "19000/19000 [==============================] - 3s 154us/step - loss: 0.0636 - accuracy: 0.9789\n",
            "Epoch 9/10\n",
            "19000/19000 [==============================] - 3s 154us/step - loss: 0.0529 - accuracy: 0.9824\n",
            "Epoch 10/10\n",
            "19000/19000 [==============================] - 3s 155us/step - loss: 0.0513 - accuracy: 0.9807\n",
            "Training complete\n",
            "Evaluating model\n",
            "Accuracy:  95.0\n",
            "Model saved\n"
          ],
          "name": "stdout"
        }
      ]
    }
  ]
}